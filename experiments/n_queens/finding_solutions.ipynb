{
 "cells": [
  {
   "metadata": {},
   "cell_type": "markdown",
   "source": [
    "# Finding solutions\n",
    "\n",
    "This notebook contains solutions to the n queens problem for various values of n."
   ],
   "id": "5b721b780a155f7"
  },
  {
   "metadata": {},
   "cell_type": "markdown",
   "source": [
    "### Importing all necessary classes.\n",
    "The cell below contains all necessary import statements for this experiment."
   ],
   "id": "6f402be25089bf80"
  },
  {
   "cell_type": "code",
   "id": "initial_id",
   "metadata": {
    "collapsed": true,
    "ExecuteTime": {
     "end_time": "2024-12-25T01:25:50.964797Z",
     "start_time": "2024-12-25T01:25:50.784392Z"
    }
   },
   "source": [
    "# Importing the algorithm and cooling schedule.\n",
    "from simulated_annealing import SimulatedAnnealing\n",
    "from simulated_annealing import LinearCooling\n",
    "\n",
    "# Importing the NQueens problem representation and evaluation heuristic.\n",
    "from problems.n_queens import NQueens, ThreatsHeuristic"
   ],
   "outputs": [],
   "execution_count": 1
  },
  {
   "metadata": {},
   "cell_type": "markdown",
   "source": [
    "## 8, 10, 12\n",
    "The next section contains solutions to smaller sizes of n (8, 10, 12). Note that the SA algorithm is non-deterministic and might not return a perfect solution everytime. I.e. when a solution has an evaluation of 0 (0 threats are present with the found placement of queens), it is a perfect solution to the n queens problem."
   ],
   "id": "2606c9d830861bb2"
  },
  {
   "metadata": {},
   "cell_type": "markdown",
   "source": "### N = 8",
   "id": "d7026390a7d1daa9"
  },
  {
   "metadata": {
    "ExecuteTime": {
     "end_time": "2024-12-25T01:33:04.333230Z",
     "start_time": "2024-12-25T01:33:04.326258Z"
    }
   },
   "cell_type": "code",
   "source": [
    "n_queens = NQueens(n=8)\n",
    "h = ThreatsHeuristic()\n",
    "sa = SimulatedAnnealing(\n",
    "        problem=n_queens,\n",
    "        schedule=LinearCooling(0.97),\n",
    "        heuristic=h,\n",
    "        starting_temp=10,\n",
    "        minimizing=True\n",
    "    )"
   ],
   "id": "f0beb212396e0cca",
   "outputs": [],
   "execution_count": 9
  },
  {
   "metadata": {
    "ExecuteTime": {
     "end_time": "2024-12-25T01:33:07.739549Z",
     "start_time": "2024-12-25T01:33:07.655292Z"
    }
   },
   "cell_type": "code",
   "source": [
    "solution = sa.run(iterations=1000, print_iterations=False)\n",
    "evaluation = h.evaluate(solution)\n",
    "\n",
    "print(found_solution)\n",
    "print(f\"Evaluation: {evaluation}\")"
   ],
   "id": "c13212424b9ccf9b",
   "outputs": [
    {
     "name": "stdout",
     "output_type": "stream",
     "text": [
      "     a   b   c   d   e   f   g   h\n",
      "   ┌───┬───┬───┬───┬───┬───┬───┬───┐\n",
      " 1 │   │   │   │ ♕ │   │   │   │   │\n",
      "   ├───┼───┼───┼───┼───┼───┼───┼───┤\n",
      " 2 │   │ ♕ │   │   │   │   │   │   │\n",
      "   ├───┼───┼───┼───┼───┼───┼───┼───┤\n",
      " 3 │   │   │   │   │   │   │ ♕ │   │\n",
      "   ├───┼───┼───┼───┼───┼───┼───┼───┤\n",
      " 4 │   │   │ ♕ │   │   │   │   │   │\n",
      "   ├───┼───┼───┼───┼───┼───┼───┼───┤\n",
      " 5 │   │   │   │   │   │ ♕ │   │   │\n",
      "   ├───┼───┼───┼───┼───┼───┼───┼───┤\n",
      " 6 │   │   │   │   │   │   │   │ ♕ │\n",
      "   ├───┼───┼───┼───┼───┼───┼───┼───┤\n",
      " 7 │   │   │   │   │ ♕ │   │   │   │\n",
      "   ├───┼───┼───┼───┼───┼───┼───┼───┤\n",
      " 8 │ ♕ │   │   │   │   │   │   │   │\n",
      "   └───┴───┴───┴───┴───┴───┴───┴───┘\n",
      "Evaluation: 0\n"
     ]
    }
   ],
   "execution_count": 10
  },
  {
   "metadata": {},
   "cell_type": "markdown",
   "source": "### N = 10",
   "id": "1b0f5577917d4aee"
  },
  {
   "metadata": {
    "ExecuteTime": {
     "end_time": "2024-12-25T01:33:43.242139Z",
     "start_time": "2024-12-25T01:33:43.236745Z"
    }
   },
   "cell_type": "code",
   "source": [
    "n_queens = NQueens(n=10)\n",
    "h = ThreatsHeuristic()\n",
    "sa = SimulatedAnnealing(\n",
    "        problem=n_queens,\n",
    "        schedule=LinearCooling(0.97),\n",
    "        heuristic=h,\n",
    "        starting_temp=10,\n",
    "        minimizing=True\n",
    "    )"
   ],
   "id": "77455a100db87bc0",
   "outputs": [],
   "execution_count": 13
  },
  {
   "metadata": {
    "ExecuteTime": {
     "end_time": "2024-12-25T01:34:02.782290Z",
     "start_time": "2024-12-25T01:34:02.680223Z"
    }
   },
   "cell_type": "code",
   "source": [
    "solution = sa.run(iterations=1000, print_iterations=False)\n",
    "evaluation = h.evaluate(solution)\n",
    "\n",
    "print(solution)\n",
    "print(f\"Evaluation: {evaluation}\")"
   ],
   "id": "2d692141e7e5777d",
   "outputs": [
    {
     "name": "stdout",
     "output_type": "stream",
     "text": [
      "     a   b   c   d   e   f   g   h   i   j\n",
      "   ┌───┬───┬───┬───┬───┬───┬───┬───┬───┬───┐\n",
      " 1 │   │   │   │ ♕ │   │   │   │   │   │   │\n",
      "   ├───┼───┼───┼───┼───┼───┼───┼───┼───┼───┤\n",
      " 2 │   │   │   │   │   │ ♕ │   │   │   │   │\n",
      "   ├───┼───┼───┼───┼───┼───┼───┼───┼───┼───┤\n",
      " 3 │   │   │   │   │   │   │   │   │ ♕ │   │\n",
      "   ├───┼───┼───┼───┼───┼───┼───┼───┼───┼───┤\n",
      " 4 │   │   │ ♕ │   │   │   │   │   │   │   │\n",
      "   ├───┼───┼───┼───┼───┼───┼───┼───┼───┼───┤\n",
      " 5 │ ♕ │   │   │   │   │   │   │   │   │   │\n",
      "   ├───┼───┼───┼───┼───┼───┼───┼───┼───┼───┤\n",
      " 6 │   │   │   │   │   │   │   │ ♕ │   │   │\n",
      "   ├───┼───┼───┼───┼───┼───┼───┼───┼───┼───┤\n",
      " 7 │   │ ♕ │   │   │   │   │   │   │   │   │\n",
      "   ├───┼───┼───┼───┼───┼───┼───┼───┼───┼───┤\n",
      " 8 │   │   │   │   │ ♕ │   │   │   │   │   │\n",
      "   ├───┼───┼───┼───┼───┼───┼───┼───┼───┼───┤\n",
      " 9 │   │   │   │   │   │   │ ♕ │   │   │   │\n",
      "   ├───┼───┼───┼───┼───┼───┼───┼───┼───┼───┤\n",
      "10 │   │   │   │   │   │   │   │   │   │ ♕ │\n",
      "   └───┴───┴───┴───┴───┴───┴───┴───┴───┴───┘\n",
      "Evaluation: 0\n"
     ]
    }
   ],
   "execution_count": 16
  },
  {
   "metadata": {},
   "cell_type": "markdown",
   "source": [
    "### N = 12\n",
    "\n",
    "#### Increased number of iterations\n",
    "Recognise that larger sizes of n might need more iterations in order to find a perfect solution. This is due to the fact that the search space increases, when n increases. The number of unique queen placements with n queens on a nxn board can be found with the binomial coefficient: $$\\binom{n^2}{n}$$"
   ],
   "id": "2ced3318a8a31880"
  },
  {
   "metadata": {
    "ExecuteTime": {
     "end_time": "2024-12-25T01:41:51.960719Z",
     "start_time": "2024-12-25T01:41:51.947308Z"
    }
   },
   "cell_type": "code",
   "source": [
    "n_queens = NQueens(n=12)\n",
    "h = ThreatsHeuristic()\n",
    "sa = SimulatedAnnealing(\n",
    "        problem=n_queens,\n",
    "        schedule=LinearCooling(0.97),\n",
    "        heuristic=h,\n",
    "        starting_temp=10,\n",
    "        minimizing=True\n",
    "    )"
   ],
   "id": "498f88e3454e3388",
   "outputs": [],
   "execution_count": 35
  },
  {
   "metadata": {
    "ExecuteTime": {
     "end_time": "2024-12-25T01:41:57.850598Z",
     "start_time": "2024-12-25T01:41:56.752504Z"
    }
   },
   "cell_type": "code",
   "source": [
    "solution = sa.run(iterations=10000, print_iterations=False)\n",
    "evaluation = h.evaluate(solution)\n",
    "\n",
    "print(solution)\n",
    "print(f\"Evaluation: {evaluation}\")"
   ],
   "id": "19028059d055e810",
   "outputs": [
    {
     "name": "stdout",
     "output_type": "stream",
     "text": [
      "     a   b   c   d   e   f   g   h   i   j   k   l\n",
      "   ┌───┬───┬───┬───┬───┬───┬───┬───┬───┬───┬───┬───┐\n",
      " 1 │   │   │ ♕ │   │   │   │   │   │   │   │   │   │\n",
      "   ├───┼───┼───┼───┼───┼───┼───┼───┼───┼───┼───┼───┤\n",
      " 2 │   │   │   │   │ ♕ │   │   │   │   │   │   │   │\n",
      "   ├───┼───┼───┼───┼───┼───┼───┼───┼───┼───┼───┼───┤\n",
      " 3 │   │   │   │   │   │   │   │   │ ♕ │   │   │   │\n",
      "   ├───┼───┼───┼───┼───┼───┼───┼───┼───┼───┼───┼───┤\n",
      " 4 │   │   │   │   │   │   │   │   │   │   │   │ ♕ │\n",
      "   ├───┼───┼───┼───┼───┼───┼───┼───┼───┼───┼───┼───┤\n",
      " 5 │   │   │   │ ♕ │   │   │   │   │   │   │   │   │\n",
      "   ├───┼───┼───┼───┼───┼───┼───┼───┼───┼───┼───┼───┤\n",
      " 6 │   │   │   │   │   │   │   │   │   │   │ ♕ │   │\n",
      "   ├───┼───┼───┼───┼───┼───┼───┼───┼───┼───┼───┼───┤\n",
      " 7 │   │   │   │   │   │   │   │ ♕ │   │   │   │   │\n",
      "   ├───┼───┼───┼───┼───┼───┼───┼───┼───┼───┼───┼───┤\n",
      " 8 │   │   │   │   │   │ ♕ │   │   │   │   │   │   │\n",
      "   ├───┼───┼───┼───┼───┼───┼───┼───┼───┼───┼───┼───┤\n",
      " 9 │   │ ♕ │   │   │   │   │   │   │   │   │   │   │\n",
      "   ├───┼───┼───┼───┼───┼───┼───┼───┼───┼───┼───┼───┤\n",
      "10 │   │   │   │   │   │   │   │   │   │ ♕ │   │   │\n",
      "   ├───┼───┼───┼───┼───┼───┼───┼───┼───┼───┼───┼───┤\n",
      "11 │   │   │   │   │   │   │ ♕ │   │   │   │   │   │\n",
      "   ├───┼───┼───┼───┼───┼───┼───┼───┼───┼───┼───┼───┤\n",
      "12 │ ♕ │   │   │   │   │   │   │   │   │   │   │   │\n",
      "   └───┴───┴───┴───┴───┴───┴───┴───┴───┴───┴───┴───┘\n",
      "Evaluation: 0\n"
     ]
    }
   ],
   "execution_count": 37
  }
 ],
 "metadata": {
  "kernelspec": {
   "display_name": "Python 3",
   "language": "python",
   "name": "python3"
  },
  "language_info": {
   "codemirror_mode": {
    "name": "ipython",
    "version": 2
   },
   "file_extension": ".py",
   "mimetype": "text/x-python",
   "name": "python",
   "nbconvert_exporter": "python",
   "pygments_lexer": "ipython2",
   "version": "2.7.6"
  }
 },
 "nbformat": 4,
 "nbformat_minor": 5
}
