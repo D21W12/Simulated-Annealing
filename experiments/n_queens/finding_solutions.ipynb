{
 "cells": [
  {
   "metadata": {},
   "cell_type": "markdown",
   "source": [
    "# Finding solutions\n",
    "\n",
    "This notebook contains solutions to the n queens problem for various sizes of n. It is as a verification of the implementation, and a showcase of its capabilities."
   ],
   "id": "5b721b780a155f7"
  },
  {
   "metadata": {},
   "cell_type": "markdown",
   "source": [
    "### Importing all necessary classes.\n",
    "The cell below contains all necessary import statements for this experiment."
   ],
   "id": "6f402be25089bf80"
  },
  {
   "cell_type": "code",
   "id": "initial_id",
   "metadata": {
    "collapsed": true,
    "ExecuteTime": {
     "end_time": "2024-12-25T01:25:50.964797Z",
     "start_time": "2024-12-25T01:25:50.784392Z"
    }
   },
   "source": [
    "# Importing the algorithm and cooling schedule.\n",
    "from simulated_annealing import SimulatedAnnealing\n",
    "from simulated_annealing import LinearCooling\n",
    "\n",
    "# Importing the NQueens problem representation and evaluation heuristic.\n",
    "from problems.n_queens import NQueens, ThreatsHeuristic"
   ],
   "outputs": [],
   "execution_count": 1
  },
  {
   "metadata": {},
   "cell_type": "markdown",
   "source": [
    "## Small sizes of n\n",
    "The next section contains solutions to smaller sizes of n (8, 10, 12). Note that the SA algorithm is non-deterministic and might not return a perfect solution everytime. I.e. when a solution has an evaluation of 0 (0 threats are present with the found placement of queens), it is a perfect solution to the n queens problem."
   ],
   "id": "2606c9d830861bb2"
  },
  {
   "metadata": {},
   "cell_type": "markdown",
   "source": "### $n = 8$",
   "id": "d7026390a7d1daa9"
  },
  {
   "metadata": {
    "ExecuteTime": {
     "end_time": "2024-12-25T01:53:17.808066Z",
     "start_time": "2024-12-25T01:53:17.159558Z"
    }
   },
   "cell_type": "code",
   "source": [
    "n_queens = NQueens(n=8)\n",
    "h = ThreatsHeuristic()\n",
    "\n",
    "iterations = 10000\n",
    "starting_temp = 10\n",
    "\n",
    "sa = SimulatedAnnealing(\n",
    "        problem=n_queens,\n",
    "        schedule=LinearCooling(0.97),\n",
    "        heuristic=h,\n",
    "        starting_temp=starting_temp,\n",
    "        minimizing=True\n",
    "    )\n",
    "\n",
    "solution = sa.run(iterations=iterations, print_iterations=False)\n",
    "evaluation = h.evaluate(solution)\n",
    "\n",
    "print(solution)\n",
    "print(f\"Evaluation: {evaluation}\")"
   ],
   "id": "f0beb212396e0cca",
   "outputs": [
    {
     "name": "stdout",
     "output_type": "stream",
     "text": [
      "     a   b   c   d   e   f   g   h\n",
      "   ┌───┬───┬───┬───┬───┬───┬───┬───┐\n",
      " 1 │   │   │   │ ♕ │   │   │   │   │\n",
      "   ├───┼───┼───┼───┼───┼───┼───┼───┤\n",
      " 2 │ ♕ │   │   │   │   │   │   │   │\n",
      "   ├───┼───┼───┼───┼───┼───┼───┼───┤\n",
      " 3 │   │   │   │   │ ♕ │   │   │   │\n",
      "   ├───┼───┼───┼───┼───┼───┼───┼───┤\n",
      " 4 │   │   │   │   │   │   │   │ ♕ │\n",
      "   ├───┼───┼───┼───┼───┼───┼───┼───┤\n",
      " 5 │   │   │   │   │   │ ♕ │   │   │\n",
      "   ├───┼───┼───┼───┼───┼───┼───┼───┤\n",
      " 6 │   │   │ ♕ │   │   │   │   │   │\n",
      "   ├───┼───┼───┼───┼───┼───┼───┼───┤\n",
      " 7 │   │   │   │   │   │   │ ♕ │   │\n",
      "   ├───┼───┼───┼───┼───┼───┼───┼───┤\n",
      " 8 │   │ ♕ │   │   │   │   │   │   │\n",
      "   └───┴───┴───┴───┴───┴───┴───┴───┘\n",
      "Evaluation: 0\n"
     ]
    }
   ],
   "execution_count": 48
  },
  {
   "metadata": {},
   "cell_type": "markdown",
   "source": "### $n = 10$",
   "id": "1b0f5577917d4aee"
  },
  {
   "metadata": {
    "ExecuteTime": {
     "end_time": "2024-12-25T01:53:12.703674Z",
     "start_time": "2024-12-25T01:53:11.849287Z"
    }
   },
   "cell_type": "code",
   "source": [
    "n_queens = NQueens(n=10)\n",
    "h = ThreatsHeuristic()\n",
    "\n",
    "iterations = 10000\n",
    "starting_temp = 10\n",
    "\n",
    "sa = SimulatedAnnealing(\n",
    "        problem=n_queens,\n",
    "        schedule=LinearCooling(0.97),\n",
    "        heuristic=h,\n",
    "        starting_temp=starting_temp,\n",
    "        minimizing=True\n",
    "    )\n",
    "\n",
    "solution = sa.run(iterations=iterations, print_iterations=False)\n",
    "evaluation = h.evaluate(solution)\n",
    "\n",
    "print(solution)\n",
    "print(f\"Evaluation: {evaluation}\")"
   ],
   "id": "77455a100db87bc0",
   "outputs": [
    {
     "name": "stdout",
     "output_type": "stream",
     "text": [
      "     a   b   c   d   e   f   g   h   i   j\n",
      "   ┌───┬───┬───┬───┬───┬───┬───┬───┬───┬───┐\n",
      " 1 │ ♕ │   │   │   │   │   │   │   │   │   │\n",
      "   ├───┼───┼───┼───┼───┼───┼───┼───┼───┼───┤\n",
      " 2 │   │   │   │   │   │   │ ♕ │   │   │   │\n",
      "   ├───┼───┼───┼───┼───┼───┼───┼───┼───┼───┤\n",
      " 3 │   │   │   │   │   │   │   │   │ ♕ │   │\n",
      "   ├───┼───┼───┼───┼───┼───┼───┼───┼───┼───┤\n",
      " 4 │   │ ♕ │   │   │   │   │   │   │   │   │\n",
      "   ├───┼───┼───┼───┼───┼───┼───┼───┼───┼───┤\n",
      " 5 │   │   │   │   │   │ ♕ │   │   │   │   │\n",
      "   ├───┼───┼───┼───┼───┼───┼───┼───┼───┼───┤\n",
      " 6 │   │   │   │   │   │   │   │   │   │ ♕ │\n",
      "   ├───┼───┼───┼───┼───┼───┼───┼───┼───┼───┤\n",
      " 7 │   │   │ ♕ │   │   │   │   │   │   │   │\n",
      "   ├───┼───┼───┼───┼───┼───┼───┼───┼───┼───┤\n",
      " 8 │   │   │   │   │ ♕ │   │   │   │   │   │\n",
      "   ├───┼───┼───┼───┼───┼───┼───┼───┼───┼───┤\n",
      " 9 │   │   │   │   │   │   │   │ ♕ │   │   │\n",
      "   ├───┼───┼───┼───┼───┼───┼───┼───┼───┼───┤\n",
      "10 │   │   │   │ ♕ │   │   │   │   │   │   │\n",
      "   └───┴───┴───┴───┴───┴───┴───┴───┴───┴───┘\n",
      "Evaluation: 0\n"
     ]
    }
   ],
   "execution_count": 47
  },
  {
   "metadata": {},
   "cell_type": "markdown",
   "source": [
    "### $n = 12$\n",
    "\n",
    "#### Increased number of iterations\n",
    "Recognise that larger sizes of n might need more iterations in order to find a perfect solution. This is due to the fact that the search space increases, when n increases. The number of unique queen placements with n queens on a nxn board can be found with the binomial coefficient: $$\\binom{n^2}{n}$$"
   ],
   "id": "2ced3318a8a31880"
  },
  {
   "metadata": {
    "ExecuteTime": {
     "end_time": "2024-12-25T01:52:53.784231Z",
     "start_time": "2024-12-25T01:52:52.589178Z"
    }
   },
   "cell_type": "code",
   "source": [
    "n_queens = NQueens(n=12)\n",
    "h = ThreatsHeuristic()\n",
    "\n",
    "iterations = 10000\n",
    "starting_temp = 10\n",
    "\n",
    "sa = SimulatedAnnealing(\n",
    "        problem=n_queens,\n",
    "        schedule=LinearCooling(0.97),\n",
    "        heuristic=h,\n",
    "        starting_temp=starting_temp,\n",
    "        minimizing=True\n",
    "    )\n",
    "\n",
    "solution = sa.run(iterations=iterations, print_iterations=False)\n",
    "evaluation = h.evaluate(solution)\n",
    "\n",
    "print(solution)\n",
    "print(f\"Evaluation: {evaluation}\")"
   ],
   "id": "498f88e3454e3388",
   "outputs": [
    {
     "name": "stdout",
     "output_type": "stream",
     "text": [
      "     a   b   c   d   e   f   g   h   i   j   k   l\n",
      "   ┌───┬───┬───┬───┬───┬───┬───┬───┬───┬───┬───┬───┐\n",
      " 1 │   │   │   │   │   │   │   │   │   │ ♕ │   │   │\n",
      "   ├───┼───┼───┼───┼───┼───┼───┼───┼───┼───┼───┼───┤\n",
      " 2 │   │   │   │   │   │   │   │ ♕ │   │   │   │   │\n",
      "   ├───┼───┼───┼───┼───┼───┼───┼───┼───┼───┼───┼───┤\n",
      " 3 │   │ ♕ │   │   │   │   │   │   │   │   │   │   │\n",
      "   ├───┼───┼───┼───┼───┼───┼───┼───┼───┼───┼───┼───┤\n",
      " 4 │   │   │   │   │   │   │   │   │   │   │ ♕ │   │\n",
      "   ├───┼───┼───┼───┼───┼───┼───┼───┼───┼───┼───┼───┤\n",
      " 5 │ ♕ │   │   │   │   │   │   │   │   │   │   │   │\n",
      "   ├───┼───┼───┼───┼───┼───┼───┼───┼───┼───┼───┼───┤\n",
      " 6 │   │   │   │   │   │ ♕ │   │   │   │   │   │   │\n",
      "   ├───┼───┼───┼───┼───┼───┼───┼───┼───┼───┼───┼───┤\n",
      " 7 │   │   │   │   │   │   │   │   │ ♕ │   │   │   │\n",
      "   ├───┼───┼───┼───┼───┼───┼───┼───┼───┼───┼───┼───┤\n",
      " 8 │   │   │   │   │ ♕ │   │   │   │   │   │   │   │\n",
      "   ├───┼───┼───┼───┼───┼───┼───┼───┼───┼───┼───┼───┤\n",
      " 9 │   │   │   │   │   │   │   │   │   │   │   │ ♕ │\n",
      "   ├───┼───┼───┼───┼───┼───┼───┼───┼───┼───┼───┼───┤\n",
      "10 │   │   │   │ ♕ │   │   │   │   │   │   │   │   │\n",
      "   ├───┼───┼───┼───┼───┼───┼───┼───┼───┼───┼───┼───┤\n",
      "11 │   │   │   │   │   │   │   │   │   │   │   │ ♕ │\n",
      "   ├───┼───┼───┼───┼───┼───┼───┼───┼───┼───┼───┼───┤\n",
      "12 │   │   │   │   │   │   │ ♕ │   │   │   │   │   │\n",
      "   └───┴───┴───┴───┴───┴───┴───┴───┴───┴───┴───┴───┘\n",
      "Evaluation: 2\n"
     ]
    }
   ],
   "execution_count": 46
  },
  {
   "metadata": {},
   "cell_type": "markdown",
   "source": [
    "### $n = 27$\n",
    "$n = 27$ is a special case, as it is the last size of n for which the number of unique solutions is known. There are $234,907,967,154,122,528$ solutions to the n queens problem with $n = 27$. We try to find one of them in the cell below."
   ],
   "id": "1a39cba630782de5"
  },
  {
   "metadata": {
    "ExecuteTime": {
     "end_time": "2024-12-25T01:55:14.511421Z",
     "start_time": "2024-12-25T01:53:39.235549Z"
    }
   },
   "cell_type": "code",
   "source": [
    "n_queens = NQueens(n=27)\n",
    "h = ThreatsHeuristic()\n",
    "\n",
    "iterations = 250000\n",
    "starting_temp = 10\n",
    "\n",
    "sa = SimulatedAnnealing(\n",
    "        problem=n_queens,\n",
    "        schedule=LinearCooling(0.97),\n",
    "        heuristic=h,\n",
    "        starting_temp=starting_temp,\n",
    "        minimizing=True\n",
    "    )\n",
    "\n",
    "solution = sa.run(iterations=iterations, print_iterations=False)\n",
    "evaluation = h.evaluate(solution)\n",
    "\n",
    "print(solution)\n",
    "print(f\"Evaluation: {evaluation}\")"
   ],
   "id": "8ed4069b54b0b305",
   "outputs": [
    {
     "name": "stdout",
     "output_type": "stream",
     "text": [
      "     a   b   c   d   e   f   g   h   i   j   k   l   m   n   o   p   q   r   s   t   u   v   w   x   y   z   A\n",
      "   ┌───┬───┬───┬───┬───┬───┬───┬───┬───┬───┬───┬───┬───┬───┬───┬───┬───┬───┬───┬───┬───┬───┬───┬───┬───┬───┬───┐\n",
      " 1 │   │   │   │   │   │   │   │   │   │   │   │   │   │   │   │   │   │   │   │   │   │   │   │ ♕ │   │   │   │\n",
      "   ├───┼───┼───┼───┼───┼───┼───┼───┼───┼───┼───┼───┼───┼───┼───┼───┼───┼───┼───┼───┼───┼───┼───┼───┼───┼───┼───┤\n",
      " 2 │   │   │   │   │   │   │   │   │   │   │   │   │   │   │ ♕ │   │   │   │   │   │   │   │   │   │   │   │   │\n",
      "   ├───┼───┼───┼───┼───┼───┼───┼───┼───┼───┼───┼───┼───┼───┼───┼───┼───┼───┼───┼───┼───┼───┼───┼───┼───┼───┼───┤\n",
      " 3 │   │   │   │   │   │   │   │   │   │   │   │   │   │   │   │   │   │   │   │ ♕ │   │   │   │   │   │   │   │\n",
      "   ├───┼───┼───┼───┼───┼───┼───┼───┼───┼───┼───┼───┼───┼───┼───┼───┼───┼───┼───┼───┼───┼───┼───┼───┼───┼───┼───┤\n",
      " 4 │   │   │   │   │   │   │   │   │   │   │ ♕ │   │   │   │   │   │   │   │   │   │   │   │   │   │   │   │   │\n",
      "   ├───┼───┼───┼───┼───┼───┼───┼───┼───┼───┼───┼───┼───┼───┼───┼───┼───┼───┼───┼───┼───┼───┼───┼───┼───┼───┼───┤\n",
      " 5 │   │   │   │   │   │   │   │   │   │   │   │   │   │   │   │   │   │   │   │   │ ♕ │   │   │   │   │   │   │\n",
      "   ├───┼───┼───┼───┼───┼───┼───┼───┼───┼───┼───┼───┼───┼───┼───┼───┼───┼───┼───┼───┼───┼───┼───┼───┼───┼───┼───┤\n",
      " 6 │   │ ♕ │   │   │   │   │   │   │   │   │   │   │   │   │   │   │   │   │   │   │   │   │   │   │   │   │   │\n",
      "   ├───┼───┼───┼───┼───┼───┼───┼───┼───┼───┼───┼───┼───┼───┼───┼───┼───┼───┼───┼───┼───┼───┼───┼───┼───┼───┼───┤\n",
      " 7 │   │   │   │   │   │ ♕ │   │   │   │   │   │   │   │   │   │   │   │   │   │   │   │   │   │   │   │   │   │\n",
      "   ├───┼───┼───┼───┼───┼───┼───┼───┼───┼───┼───┼───┼───┼───┼───┼───┼───┼───┼───┼───┼───┼───┼───┼───┼───┼───┼───┤\n",
      " 8 │   │   │   │   │   │   │   │   │   │   │   │   │   │   │   │ ♕ │   │   │   │   │   │   │   │   │   │   │   │\n",
      "   ├───┼───┼───┼───┼───┼───┼───┼───┼───┼───┼───┼───┼───┼───┼───┼───┼───┼───┼───┼───┼───┼───┼───┼───┼───┼───┼───┤\n",
      " 9 │ ♕ │   │   │   │   │   │   │   │   │   │   │   │   │   │   │   │   │   │   │   │   │   │   │   │   │   │   │\n",
      "   ├───┼───┼───┼───┼───┼───┼───┼───┼───┼───┼───┼───┼───┼───┼───┼───┼───┼───┼───┼───┼───┼───┼───┼───┼───┼───┼───┤\n",
      "10 │   │   │   │   │   │   │   │   │   │   │   │   │   │   │   │   │   │   │   │   │   │   │   │   │ ♕ │   │   │\n",
      "   ├───┼───┼───┼───┼───┼───┼───┼───┼───┼───┼───┼───┼───┼───┼───┼───┼───┼───┼───┼───┼───┼───┼───┼───┼───┼───┼───┤\n",
      "11 │   │   │   │   │   │   │   │   │ ♕ │   │   │   │   │   │   │   │   │   │   │   │   │   │   │   │   │   │   │\n",
      "   ├───┼───┼───┼───┼───┼───┼───┼───┼───┼───┼───┼───┼───┼───┼───┼───┼───┼───┼───┼───┼───┼───┼───┼───┼───┼───┼───┤\n",
      "12 │   │   │   │   │   │   │   │   │   │   │   │   │   │   │   │   │ ♕ │   │   │   │   │   │   │   │   │   │   │\n",
      "   ├───┼───┼───┼───┼───┼───┼───┼───┼───┼───┼───┼───┼───┼───┼───┼───┼───┼───┼───┼───┼───┼───┼───┼───┼───┼───┼───┤\n",
      "13 │   │   │   │   │   │   │   │   │   │   │   │   │   │   │   │   │   │   │ ♕ │   │   │   │   │   │   │   │   │\n",
      "   ├───┼───┼───┼───┼───┼───┼───┼───┼───┼───┼───┼───┼───┼───┼───┼───┼───┼───┼───┼───┼───┼───┼───┼───┼───┼───┼───┤\n",
      "14 │   │   │   │   │ ♕ │   │   │   │   │   │   │   │   │   │   │   │   │   │   │   │   │   │   │   │   │   │   │\n",
      "   ├───┼───┼───┼───┼───┼───┼───┼───┼───┼───┼───┼───┼───┼───┼───┼───┼───┼───┼───┼───┼───┼───┼───┼───┼───┼───┼───┤\n",
      "15 │   │   │   │   │   │   │   │   │   │   │   │   │   │   │   │   │   │   │   │   │   │   │   │   │   │   │ ♕ │\n",
      "   ├───┼───┼───┼───┼───┼───┼───┼───┼───┼───┼───┼───┼───┼───┼───┼───┼───┼───┼───┼───┼───┼───┼───┼───┼───┼───┼───┤\n",
      "16 │   │   │   │   │   │   │   │   │   │   │   │   │   │   │   │   │   │ ♕ │   │   │   │   │   │   │   │   │   │\n",
      "   ├───┼───┼───┼───┼───┼───┼───┼───┼───┼───┼───┼───┼───┼───┼───┼───┼───┼───┼───┼───┼───┼───┼───┼───┼───┼───┼───┤\n",
      "17 │   │   │   │   │   │   │   │   │   │   │   │   │   │   │   │   │   │   │   │   │   │   │   │   │   │ ♕ │   │\n",
      "   ├───┼───┼───┼───┼───┼───┼───┼───┼───┼───┼───┼───┼───┼───┼───┼───┼───┼───┼───┼───┼───┼───┼───┼───┼───┼───┼───┤\n",
      "18 │   │   │   │   │   │   │   │   │   │   │   │   │   │   │   │   │   │   │   │   │   │ ♕ │   │   │   │   │   │\n",
      "   ├───┼───┼───┼───┼───┼───┼───┼───┼───┼───┼───┼───┼───┼───┼───┼───┼───┼───┼───┼───┼───┼───┼───┼───┼───┼───┼───┤\n",
      "19 │   │   │ ♕ │   │   │   │   │   │   │   │   │   │   │   │   │   │   │   │   │   │   │   │   │   │   │   │   │\n",
      "   ├───┼───┼───┼───┼───┼───┼───┼───┼───┼───┼───┼───┼───┼───┼───┼───┼───┼───┼───┼───┼───┼───┼───┼───┼───┼───┼───┤\n",
      "20 │   │   │   │   │   │   │   │   │   │   │   │   │ ♕ │   │   │   │   │   │   │   │   │   │   │   │   │   │   │\n",
      "   ├───┼───┼───┼───┼───┼───┼───┼───┼───┼───┼───┼───┼───┼───┼───┼───┼───┼───┼───┼───┼───┼───┼───┼───┼───┼───┼───┤\n",
      "21 │   │   │   │   │   │   │ ♕ │   │   │   │   │   │   │   │   │   │   │   │   │   │   │   │   │   │   │   │   │\n",
      "   ├───┼───┼───┼───┼───┼───┼───┼───┼───┼───┼───┼───┼───┼───┼───┼───┼───┼───┼───┼───┼───┼───┼───┼───┼───┼───┼───┤\n",
      "22 │   │   │   │   │   │   │   │   │   │   │   │   │   │   │   │   │   │   │   │   │   │   │ ♕ │   │   │   │   │\n",
      "   ├───┼───┼───┼───┼───┼───┼───┼───┼───┼───┼───┼───┼───┼───┼───┼───┼───┼───┼───┼───┼───┼───┼───┼───┼───┼───┼───┤\n",
      "23 │   │   │   │   │   │   │   │ ♕ │   │   │   │   │   │   │   │   │   │   │   │   │   │   │   │   │   │   │   │\n",
      "   ├───┼───┼───┼───┼───┼───┼───┼───┼───┼───┼───┼───┼───┼───┼───┼───┼───┼───┼───┼───┼───┼───┼───┼───┼───┼───┼───┤\n",
      "24 │   │   │   │   │   │   │   │   │   │   │   │ ♕ │   │   │   │   │   │   │   │   │   │   │   │   │   │   │   │\n",
      "   ├───┼───┼───┼───┼───┼───┼───┼───┼───┼───┼───┼───┼───┼───┼───┼───┼───┼───┼───┼───┼───┼───┼───┼───┼───┼───┼───┤\n",
      "25 │   │   │   │   │   │   │   │   │   │   │   │   │   │ ♕ │   │   │   │   │   │   │   │   │   │   │   │   │   │\n",
      "   ├───┼───┼───┼───┼───┼───┼───┼───┼───┼───┼───┼───┼───┼───┼───┼───┼───┼───┼───┼───┼───┼───┼───┼───┼───┼───┼───┤\n",
      "26 │   │   │   │ ♕ │   │   │   │   │   │   │   │   │   │   │   │   │   │   │   │   │   │   │   │   │   │   │   │\n",
      "   ├───┼───┼───┼───┼───┼───┼───┼───┼───┼───┼───┼───┼───┼───┼───┼───┼───┼───┼───┼───┼───┼───┼───┼───┼───┼───┼───┤\n",
      "27 │   │   │   │   │   │   │   │   │   │ ♕ │   │   │   │   │   │   │   │   │   │   │   │   │   │   │   │   │   │\n",
      "   └───┴───┴───┴───┴───┴───┴───┴───┴───┴───┴───┴───┴───┴───┴───┴───┴───┴───┴───┴───┴───┴───┴───┴───┴───┴───┴───┘\n",
      "Evaluation: 0\n"
     ]
    }
   ],
   "execution_count": 49
  },
  {
   "metadata": {},
   "cell_type": "markdown",
   "source": [
    "## Discussion and Reflection\n",
    "\n",
    "### Reflection\n",
    "The run-time of the algorithm, on the n queens problem, can be reduced by re-designing the design/implementation of the threats heuristic, which currently has a run-time complexity of $O(n^2)$. "
   ],
   "id": "fbfab131539ed401"
  },
  {
   "metadata": {},
   "cell_type": "code",
   "outputs": [],
   "execution_count": null,
   "source": "",
   "id": "e9becbee4f719e2d"
  }
 ],
 "metadata": {
  "kernelspec": {
   "display_name": "Python 3",
   "language": "python",
   "name": "python3"
  },
  "language_info": {
   "codemirror_mode": {
    "name": "ipython",
    "version": 2
   },
   "file_extension": ".py",
   "mimetype": "text/x-python",
   "name": "python",
   "nbconvert_exporter": "python",
   "pygments_lexer": "ipython2",
   "version": "2.7.6"
  }
 },
 "nbformat": 4,
 "nbformat_minor": 5
}
